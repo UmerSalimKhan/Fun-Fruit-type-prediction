{
 "cells": [
  {
   "cell_type": "markdown",
   "id": "d65cfe7b-fc06-44e7-bee9-4b256156c657",
   "metadata": {},
   "source": [
    "# Importing Libraries"
   ]
  },
  {
   "cell_type": "code",
   "execution_count": null,
   "id": "224c9a81-af1c-45aa-bdaf-c04a491347d3",
   "metadata": {},
   "outputs": [],
   "source": []
  },
  {
   "cell_type": "markdown",
   "id": "e5588113-2b53-40f8-b406-90b0353f97ee",
   "metadata": {},
   "source": [
    "# Importing Dataset"
   ]
  },
  {
   "cell_type": "code",
   "execution_count": null,
   "id": "ce6d2c54-f5ac-4d61-a919-8e06796a30d6",
   "metadata": {},
   "outputs": [],
   "source": []
  },
  {
   "cell_type": "markdown",
   "id": "8d2740b4-6a34-4132-88a2-87819ed74ddf",
   "metadata": {},
   "source": [
    "# Exploratory Data Analysis"
   ]
  },
  {
   "cell_type": "code",
   "execution_count": null,
   "id": "e48fc6a0-a162-4a64-b8ce-d5535aabb8d5",
   "metadata": {},
   "outputs": [],
   "source": []
  },
  {
   "cell_type": "markdown",
   "id": "ab0ff7c9-803b-4821-a653-d74fbc0e5244",
   "metadata": {},
   "source": [
    "# Train - Test Split  "
   ]
  },
  {
   "cell_type": "code",
   "execution_count": null,
   "id": "13bab067-9c57-44dd-81c5-542443bd63a4",
   "metadata": {},
   "outputs": [],
   "source": []
  },
  {
   "cell_type": "markdown",
   "id": "9f506907-1f67-4382-9b7c-5d562108bf18",
   "metadata": {},
   "source": [
    "# Model fitting "
   ]
  },
  {
   "cell_type": "code",
   "execution_count": null,
   "id": "a5b83169-2d58-41b5-be08-7e38ac972552",
   "metadata": {},
   "outputs": [],
   "source": []
  },
  {
   "cell_type": "markdown",
   "id": "c5bdd71b-808f-4786-ab8c-e4b65119e795",
   "metadata": {},
   "source": [
    "# Best model hyperparameter tuning "
   ]
  },
  {
   "cell_type": "code",
   "execution_count": null,
   "id": "717e0ae3-e5cc-4802-9f3a-94fecd1605b5",
   "metadata": {},
   "outputs": [],
   "source": []
  },
  {
   "cell_type": "markdown",
   "id": "9d910612-8640-424b-979a-d79fd905e4fc",
   "metadata": {},
   "source": [
    "# StreamLit"
   ]
  },
  {
   "cell_type": "code",
   "execution_count": null,
   "id": "1e6a1c50-0a80-4907-af73-dd7761e767b4",
   "metadata": {},
   "outputs": [],
   "source": []
  },
  {
   "cell_type": "markdown",
   "id": "355a6f3f-1ac0-462a-a478-a3018b460dfe",
   "metadata": {},
   "source": [
    "<h3>Conclusion: </h3> "
   ]
  }
 ],
 "metadata": {
  "kernelspec": {
   "display_name": "Python 3 (ipykernel)",
   "language": "python",
   "name": "python3"
  },
  "language_info": {
   "codemirror_mode": {
    "name": "ipython",
    "version": 3
   },
   "file_extension": ".py",
   "mimetype": "text/x-python",
   "name": "python",
   "nbconvert_exporter": "python",
   "pygments_lexer": "ipython3",
   "version": "3.12.1"
  }
 },
 "nbformat": 4,
 "nbformat_minor": 5
}
